{
 "cells": [
  {
   "cell_type": "code",
   "execution_count": 16,
   "metadata": {},
   "outputs": [],
   "source": [
    "using WebIO\n",
    "using Mux\n",
    "using MsgPack"
   ]
  },
  {
   "cell_type": "code",
   "execution_count": 22,
   "metadata": {},
   "outputs": [
    {
     "name": "stdout",
     "output_type": "stream",
     "text": [
      "Listening on 0.0.0.0:8002...\n"
     ]
    },
    {
     "data": {
      "text/plain": [
       "(::#23) (generic function with 1 method)"
      ]
     },
     "execution_count": 22,
     "metadata": {},
     "output_type": "execute_result"
    },
    {
     "name": "stderr",
     "output_type": "stream",
     "text": [
      "Error handling websocket connection:\n",
      "\u001b[91mError: client disconnected\u001b[39m"
     ]
    }
   ],
   "source": [
    "using WebIO, JSExpr\n",
    "\n",
    "w = Scope(\n",
    "    imports=[\n",
    "        \"/pkg/MeshCat/meshcat/dist/main.js\",\n",
    "    ])\n",
    "\n",
    "obs = Observable(w, \"meshcat-command\", UInt8[])\n",
    "\n",
    "onimport(w, @js function (mc)\n",
    "    viewer = @new mc.Viewer(this.dom.querySelector(\"#container\"))\n",
    "end)\n",
    "\n",
    "onjs(obs, @js val -> begin\n",
    "    viewer.handle_command_message(Dict(:data => val))\n",
    "end)\n",
    "\n",
    "node = w(dom\"div#container\"(\n",
    "        style=Dict(:width => \"600px\", :height => \"400px\", :position=>\"relative\")\n",
    "        ))\n",
    "webio_serve(page(\"/\", req -> node), 8002)\n",
    "\n",
    "oc = Observable(w, \"control\", 0.0)\n",
    "on(oc) do x\n",
    "    println(\"js sent $x\")\n",
    "end"
   ]
  },
  {
   "cell_type": "code",
   "execution_count": 30,
   "metadata": {},
   "outputs": [
    {
     "name": "stdout",
     "output_type": "stream",
     "text": [
      "js sent 0.8843928379827439\n",
      "js sent 0.8627165364487724\n",
      "js sent 0.8410402349148011\n",
      "js sent 0.8193639333808296\n",
      "js sent 0.7976876318468582\n",
      "js sent 0.7760113303128868\n",
      "js sent 0.7543350287789153\n",
      "js sent 0.732658727244944\n",
      "js sent 0.7109824257109725\n",
      "js sent 0.6893061241770011\n",
      "js sent 0.7109824257109725\n",
      "js sent 0.732658727244944\n",
      "js sent 0.7543350287789153\n",
      "js sent 0.7760113303128868\n",
      "js sent 0.7976876318468582\n",
      "js sent 0.8193639333808296\n",
      "js sent 0.8410402349148011\n",
      "js sent 0.8627165364487724\n",
      "js sent 0.8843928379827439\n",
      "js sent 0.9060691395167153\n",
      "js sent 0.9277454410506868\n",
      "js sent 0.9494217425846582\n",
      "js sent 0.9710980441186295\n",
      "js sent 0.992774345652601\n",
      "js sent 1.0794795517884868\n",
      "js sent 1.1011558533224581\n",
      "js sent 1.1228321548564295\n",
      "js sent 1.1445084563904009\n",
      "js sent 1.1661847579243725\n",
      "js sent 1.1878610594583439\n",
      "js sent 1.2095373609923152\n",
      "js sent 1.2312136625262866\n",
      "js sent 1.2528899640602582\n",
      "js sent 1.2745662655942296\n",
      "js sent 1.296242567128201\n",
      "js sent 1.3179188686621723\n",
      "js sent 1.296242567128201\n",
      "js sent 1.2745662655942296\n",
      "js sent 1.2528899640602582\n",
      "js sent 1.2312136625262866\n",
      "js sent 1.2095373609923152\n",
      "js sent 1.1878610594583439\n",
      "js sent 1.1661847579243725\n",
      "js sent 1.1445084563904009\n",
      "js sent 1.1661847579243725\n",
      "js sent 1.1011558533224581\n",
      "js sent 1.0794795517884868\n",
      "js sent 1.0361269487205438\n",
      "js sent 1.0144506471865724\n",
      "js sent 0.992774345652601\n",
      "js sent 0.9710980441186295\n",
      "js sent 0.9494217425846582\n",
      "js sent 0.9277454410506868\n",
      "js sent 0.8843928379827439\n",
      "js sent 0.8627165364487724\n",
      "js sent 0.8410402349148011\n",
      "js sent 0.732658727244944\n",
      "js sent 0.6676298226430296\n",
      "js sent 0.6242772195750869\n",
      "js sent 0.6026009180411154\n",
      "js sent 0.580924616507144\n",
      "js sent 0.5592483149731725\n",
      "js sent 0.580924616507144\n",
      "js sent 0.6026009180411154\n",
      "js sent 0.6242772195750869\n",
      "js sent 0.6893061241770011\n",
      "js sent 0.7543350287789153\n",
      "js sent 0.7976876318468582\n",
      "js sent 0.8627165364487724\n",
      "js sent 0.8843928379827439\n",
      "js sent 0.9277454410506868\n",
      "js sent 0.9494217425846582\n",
      "js sent 0.9710980441186295\n",
      "js sent 0.992774345652601\n",
      "js sent 1.0144506471865724\n",
      "js sent 1.0361269487205438\n",
      "js sent 1.0578032502545154\n"
     ]
    }
   ],
   "source": [
    "cmd = Dict(\"type\" => \"set_control\",\n",
    "\"name\" => \"pose\",\n",
    "\"callback\" => string(@js (value) -> $oc[] = value),\n",
    "    \"value\" => 1.0,\n",
    "    \"min\" => 0.0,\n",
    "    \"max\" => 2.0\n",
    "    )\n",
    "obs[] = MsgPack.pack(cmd);"
   ]
  },
  {
   "cell_type": "code",
   "execution_count": 9,
   "metadata": {},
   "outputs": [
    {
     "data": {
      "text/html": [
       "<div class='display:none'></div><unsafe-script style='display:none'>\n",
       "WebIO.mount(this.previousSibling,{&quot;props&quot;:{},&quot;nodeType&quot;:&quot;Scope&quot;,&quot;type&quot;:&quot;node&quot;,&quot;instanceArgs&quot;:{&quot;imports&quot;:{&quot;data&quot;:[{&quot;name&quot;:null,&quot;type&quot;:&quot;js&quot;,&quot;url&quot;:&quot;/pkg/MeshCat/meshcat/dist/main.js&quot;}],&quot;type&quot;:&quot;async_block&quot;},&quot;id&quot;:&quot;scope-1&quot;,&quot;handlers&quot;:{&quot;meshcat-command&quot;:[(function (val){return viewer.handle_command_message({&quot;data&quot;:val})})],&quot;_promises&quot;:{&quot;importsLoaded&quot;:[(function (mc){return viewer=new mc.Viewer(this.dom.querySelector(&quot;#container&quot;))})]}},&quot;systemjs_options&quot;:null,&quot;observables&quot;:{&quot;meshcat-command&quot;:{&quot;sync&quot;:true,&quot;id&quot;:&quot;ob_01&quot;,&quot;value&quot;:[]},&quot;control&quot;:{&quot;sync&quot;:true,&quot;id&quot;:&quot;ob_03&quot;,&quot;value&quot;:0.0}}},&quot;children&quot;:[{&quot;props&quot;:{&quot;events&quot;:{&quot;click&quot;:(function (){return WebIO.setval({&quot;name&quot;:&quot;control&quot;,&quot;scope&quot;:&quot;scope-1&quot;,&quot;id&quot;:&quot;ob_03&quot;,&quot;type&quot;:&quot;observable&quot;},Math.random())})}},&quot;nodeType&quot;:&quot;DOM&quot;,&quot;type&quot;:&quot;node&quot;,&quot;instanceArgs&quot;:{&quot;namespace&quot;:&quot;html&quot;,&quot;tag&quot;:&quot;button&quot;},&quot;children&quot;:[&quot;generate random&quot;]}]})</unsafe-script>"
      ],
      "text/plain": [
       "WebIO.Scope(\"scope-1\", WebIO.Node{WebIO.DOM}(WebIO.DOM(:html, :button), Any[\"generate random\"], Dict{Any,Any}(Pair{Any,Any}(:events, Dict(\"click\"=>WebIO.JSString(\"(function (){return WebIO.setval({\\\"name\\\":\\\"control\\\",\\\"scope\\\":\\\"scope-1\\\",\\\"id\\\":\\\"ob_03\\\",\\\"type\\\":\\\"observable\\\"},Math.random())})\")))), 1), Dict{String,Tuple{Observables.Observable,Union{Bool, Void}}}(Pair{String,Tuple{Observables.Observable,Union{Bool, Void}}}(\"meshcat-command\", (Observables.Observable{Array{UInt8,1}}(\"ob_01\", UInt8[], Any[WebIO.Backedge(WebIO.Scope(#= circular reference @-7 =#), WebIO.Backedge(WebIO.Scope(#= circular reference @-8 =#), WebIO.#37)), #3]), nothing)),Pair{String,Tuple{Observables.Observable,Union{Bool, Void}}}(\"control\", (Observables.Observable{Float64}(\"ob_03\", 0.0, Any[#5]), nothing))), Set{String}(), nothing, String[\"/pkg/MeshCat/meshcat/dist/main.js\"], Dict{Any,Any}(Pair{Any,Any}(\"meshcat-command\", Any[WebIO.JSString(\"(function (val){return viewer.handle_command_message({\\\"data\\\":val})})\")]),Pair{Any,Any}(\"_promises\", Dict{Any,Any}(Pair{Any,Any}(\"importsLoaded\", Any[WebIO.JSString(\"(function (mc){return viewer=new mc.Viewer(this.dom.querySelector(\\\"#container\\\"))})\")])))), WebIO.ConnectionPool(Channel{Any}(sz_max:32,sz_curr:0), Set(WebIO.AbstractConnection[IJuliaConnection(IJulia.CommManager.Comm{:webio_comm}(\"d3d82eeb-1ab8-4b1c-9775-6be660a2cfe8\", true, #1, IJulia.CommManager.noop_callback))]), Channel{WebIO.AbstractConnection}(sz_max:32,sz_curr:0)))"
      ]
     },
     "execution_count": 9,
     "metadata": {},
     "output_type": "execute_result"
    },
    {
     "name": "stdout",
     "output_type": "stream",
     "text": [
      "js sent 0.9302132999245489\n",
      "js sent 0.9745959876658927\n"
     ]
    }
   ],
   "source": [
    "    w(\n",
    "      dom\"button\"(\n",
    "        \"generate random\",\n",
    "        events=Dict(\"click\"=>@js () -> $oc[] = Math.random()),\n",
    "      ),\n",
    "    )"
   ]
  },
  {
   "cell_type": "code",
   "execution_count": 10,
   "metadata": {},
   "outputs": [
    {
     "data": {
      "text/plain": [
       "WebIO.JSString(\"(function (){return WebIO.setval({\\\"name\\\":\\\"control\\\",\\\"scope\\\":\\\"scope-1\\\",\\\"id\\\":\\\"ob_03\\\",\\\"type\\\":\\\"observable\\\"},1.0)})\")"
      ]
     },
     "execution_count": 10,
     "metadata": {},
     "output_type": "execute_result"
    },
    {
     "name": "stdout",
     "output_type": "stream",
     "text": [
      "js sent 1\n",
      "js sent 2\n",
      "js sent 2.1\n"
     ]
    }
   ],
   "source": [
    "@js () -> $oc[] = 1.0"
   ]
  },
  {
   "cell_type": "code",
   "execution_count": 3,
   "metadata": {},
   "outputs": [],
   "source": [
    "using MeshCat\n",
    "using GeometryTypes\n",
    "using MsgPack\n",
    "using CoordinateTransformations"
   ]
  },
  {
   "cell_type": "code",
   "execution_count": 4,
   "metadata": {},
   "outputs": [],
   "source": [
    "box = HyperRectangle(Vec(0., 0, 0), Vec(1., 1, 1))\n",
    "obj = MeshCat.Mesh(box)\n",
    "cmd = MeshCat.SetObject(obj, MeshCat.Path([\"box\"]))\n",
    "MeshCat.lower(cmd)\n",
    "obs[] = MsgPack.pack(MeshCat.lower(cmd));\n",
    "\n",
    "for θ in linspace(0, 2π, 100)\n",
    "    cmd = MeshCat.SetTransform(LinearMap(RotZ(θ)), MeshCat.Path([\"box\"]))\n",
    "    obs[] = MsgPack.pack(MeshCat.lower(cmd))\n",
    "    sleep(1/100)\n",
    "end"
   ]
  },
  {
   "cell_type": "code",
   "execution_count": 8,
   "metadata": {},
   "outputs": [
    {
     "name": "stdout",
     "output_type": "stream",
     "text": [
      "WebIO: setting up mux\n"
     ]
    }
   ],
   "source": []
  },
  {
   "cell_type": "code",
   "execution_count": 9,
   "metadata": {},
   "outputs": [
    {
     "name": "stdout",
     "output_type": "stream",
     "text": [
      "Listening on 0.0.0.0:8000...\n"
     ]
    }
   ],
   "source": [
    "webio_serve(page(\"/\", req -> node))"
   ]
  },
  {
   "cell_type": "code",
   "execution_count": null,
   "metadata": {},
   "outputs": [],
   "source": []
  }
 ],
 "metadata": {
  "kernelspec": {
   "display_name": "Julia 0.6.2",
   "language": "julia",
   "name": "julia-0.6"
  },
  "language_info": {
   "file_extension": ".jl",
   "mimetype": "application/julia",
   "name": "julia",
   "version": "0.6.2"
  }
 },
 "nbformat": 4,
 "nbformat_minor": 2
}
