{
 "cells": [
  {
   "cell_type": "code",
   "execution_count": 1,
   "metadata": {},
   "outputs": [],
   "source": [
    "using Revise"
   ]
  },
  {
   "cell_type": "code",
   "execution_count": 2,
   "metadata": {},
   "outputs": [
    {
     "data": {
      "text/html": [
       "<script src='/pkg/WebIO/webio/dist/bundle.js'></script>"
      ],
      "text/plain": [
       "HTML{String}(\"<script src='/pkg/WebIO/webio/dist/bundle.js'></script>\")"
      ]
     },
     "metadata": {},
     "output_type": "display_data"
    },
    {
     "data": {
      "text/html": [
       "<script src='/pkg/WebIO/providers/ijulia_setup.js'></script>"
      ],
      "text/plain": [
       "HTML{String}(\"<script src='/pkg/WebIO/providers/ijulia_setup.js'></script>\")"
      ]
     },
     "metadata": {},
     "output_type": "display_data"
    },
    {
     "name": "stdout",
     "output_type": "stream",
     "text": [
      "WebIO: setting up ijulia\n",
      "WebIO: setting up mux\n"
     ]
    },
    {
     "name": "stderr",
     "output_type": "stream",
     "text": [
      "\u001b[1m\u001b[36mINFO: \u001b[39m\u001b[22m\u001b[36mRecompiling stale cache file /home/rdeits/.julia/lib/v0.6/MeshCat.ji for module MeshCat.\n",
      "\u001b[39m"
     ]
    }
   ],
   "source": [
    "using WebIO\n",
    "using Mux\n",
    "using GeometryTypes\n",
    "using MeshCat"
   ]
  },
  {
   "cell_type": "code",
   "execution_count": 7,
   "metadata": {},
   "outputs": [
    {
     "name": "stderr",
     "output_type": "stream",
     "text": [
      "WARNING: Method definition (::Type{MeshCat.CoreVisualizer})() in module MeshCat at /home/rdeits/.julia/v0.6/MeshCat/src/visualizer.jl:10 overwritten at /home/rdeits/.julia/v0.6/MeshCat/src/visualizer.jl:10.\n"
     ]
    },
    {
     "data": {
      "text/html": [
       "<div class='display:none'></div><unsafe-script style='display:none'>\n",
       "WebIO.mount(this.previousSibling,{&quot;props&quot;:{&quot;style&quot;:{&quot;min-height&quot;:&quot;400px&quot;}},&quot;nodeType&quot;:&quot;DOM&quot;,&quot;type&quot;:&quot;node&quot;,&quot;instanceArgs&quot;:{&quot;namespace&quot;:&quot;html&quot;,&quot;tag&quot;:&quot;div&quot;},&quot;children&quot;:[{&quot;props&quot;:{},&quot;nodeType&quot;:&quot;Scope&quot;,&quot;type&quot;:&quot;node&quot;,&quot;instanceArgs&quot;:{&quot;imports&quot;:{&quot;data&quot;:[{&quot;name&quot;:null,&quot;type&quot;:&quot;js&quot;,&quot;url&quot;:&quot;/pkg/MeshCat/meshcat/dist/main.min.js&quot;}],&quot;type&quot;:&quot;async_block&quot;},&quot;id&quot;:&quot;scope-4&quot;,&quot;handlers&quot;:{&quot;meshcat-command&quot;:[(function (val){console.log(&quot;handling command&quot;); return window[&quot;meshcat_viewer_scope-4&quot;].handle_command_message({&quot;data&quot;:val})})],&quot;_promises&quot;:{&quot;importsLoaded&quot;:[(function (mc){var element=this.dom.querySelector((&quot;#&quot;+&quot;meshcat_viewer_scope-4&quot;)); var inner_document=element.contentDocument; var div=inner_document.body.appendChild(inner_document.createElement(&quot;div&quot;)); window[&quot;meshcat_viewer_scope-4&quot;]=new mc.Viewer(div); return WebIO.setval({&quot;name&quot;:&quot;meshcat-request&quot;,&quot;scope&quot;:&quot;scope-4&quot;,&quot;id&quot;:&quot;ob_11&quot;,&quot;type&quot;:&quot;observable&quot;},String(Date.now()))})]}},&quot;systemjs_options&quot;:null,&quot;observables&quot;:{&quot;meshcat-command&quot;:{&quot;sync&quot;:false,&quot;id&quot;:&quot;ob_10&quot;,&quot;value&quot;:[]},&quot;meshcat-controls&quot;:{&quot;sync&quot;:true,&quot;id&quot;:&quot;ob_12&quot;,&quot;value&quot;:[]},&quot;meshcat-request&quot;:{&quot;sync&quot;:true,&quot;id&quot;:&quot;ob_11&quot;,&quot;value&quot;:&quot;&quot;}}},&quot;children&quot;:[{&quot;props&quot;:{&quot;id&quot;:&quot;meshcat_viewer_scope-4&quot;,&quot;height&quot;:&quot;400&quot;,&quot;width&quot;:&quot;600&quot;},&quot;nodeType&quot;:&quot;DOM&quot;,&quot;type&quot;:&quot;node&quot;,&quot;instanceArgs&quot;:{&quot;namespace&quot;:&quot;html&quot;,&quot;tag&quot;:&quot;iframe&quot;},&quot;children&quot;:[]}]}]})</unsafe-script>"
      ],
      "text/plain": [
       "MeshCat.Visualizer(MeshCat.CoreVisualizer(WebIO.Scope(\"scope-4\", WebIO.Node{WebIO.DOM}(WebIO.DOM(:html, :iframe), Any[], Dict{Any,Any}(Pair{Any,Any}(:id, \"meshcat_viewer_scope-4\"),Pair{Any,Any}(:height, \"400\"),Pair{Any,Any}(:width, \"600\")), 0), Dict{String,Tuple{Observables.Observable,Union{Bool, Void}}}(Pair{String,Tuple{Observables.Observable,Union{Bool, Void}}}(\"meshcat-command\", (Observables.Observable{Array{UInt8,1}}(\"ob_10\", UInt8[], Any[WebIO.Backedge(WebIO.Scope(#= circular reference @-7 =#), WebIO.Backedge(WebIO.Scope(#= circular reference @-8 =#), WebIO.#37))]), nothing)),Pair{String,Tuple{Observables.Observable,Union{Bool, Void}}}(\"meshcat-controls\", (Observables.Observable{Array{Any,1}}(\"ob_12\", Any[], Any[MeshCat.#29]), nothing)),Pair{String,Tuple{Observables.Observable,Union{Bool, Void}}}(\"meshcat-request\", (Observables.Observable{String}(\"ob_11\", \"\", Any[MeshCat.#28]), nothing))), Set{String}(), nothing, String[\"/pkg/MeshCat/meshcat/dist/main.min.js\"], Dict{Any,Any}(Pair{Any,Any}(\"meshcat-command\", Any[WebIO.JSString(\"(function (val){console.log(\\\"handling command\\\"); return window[\\\"meshcat_viewer_scope-4\\\"].handle_command_message({\\\"data\\\":val})})\")]),Pair{Any,Any}(\"_promises\", Dict{Any,Any}(Pair{Any,Any}(\"importsLoaded\", Any[WebIO.JSString(\"(function (mc){var element=this.dom.querySelector((\\\"#\\\"+\\\"meshcat_viewer_scope-4\\\")); var inner_document=element.contentDocument; var div=inner_document.body.appendChild(inner_document.createElement(\\\"div\\\")); window[\\\"meshcat_viewer_scope-4\\\"]=new mc.Viewer(div); return WebIO.setval({\\\"name\\\":\\\"meshcat-request\\\",\\\"scope\\\":\\\"scope-4\\\",\\\"id\\\":\\\"ob_11\\\",\\\"type\\\":\\\"observable\\\"},String(Date.now()))})\")])))), WebIO.ConnectionPool(Channel{Any}(sz_max:32,sz_curr:3), Set{WebIO.AbstractConnection}(), Channel{WebIO.AbstractConnection}(sz_max:32,sz_curr:0))), MeshCat.SceneTrees.SceneNode(Nullable{Array{UInt8,1}}(), Nullable{Array{UInt8,1}}(), Dict{String,MeshCat.SceneTrees.SceneNode}()), Observables.Observable{Array{UInt8,1}}(\"ob_10\", UInt8[], Any[WebIO.Backedge(WebIO.Scope(\"scope-4\", WebIO.Node{WebIO.DOM}(WebIO.DOM(:html, :iframe), Any[], Dict{Any,Any}(Pair{Any,Any}(:id, \"meshcat_viewer_scope-4\"),Pair{Any,Any}(:height, \"400\"),Pair{Any,Any}(:width, \"600\")), 0), Dict{String,Tuple{Observables.Observable,Union{Bool, Void}}}(Pair{String,Tuple{Observables.Observable,Union{Bool, Void}}}(\"meshcat-command\", (Observables.Observable{Array{UInt8,1}}(#= circular reference @-7 =#), nothing)),Pair{String,Tuple{Observables.Observable,Union{Bool, Void}}}(\"meshcat-controls\", (Observables.Observable{Array{Any,1}}(\"ob_12\", Any[], Any[MeshCat.#29]), nothing)),Pair{String,Tuple{Observables.Observable,Union{Bool, Void}}}(\"meshcat-request\", (Observables.Observable{String}(\"ob_11\", \"\", Any[MeshCat.#28]), nothing))), Set{String}(), nothing, String[\"/pkg/MeshCat/meshcat/dist/main.min.js\"], Dict{Any,Any}(Pair{Any,Any}(\"meshcat-command\", Any[WebIO.JSString(\"(function (val){console.log(\\\"handling command\\\"); return window[\\\"meshcat_viewer_scope-4\\\"].handle_command_message({\\\"data\\\":val})})\")]),Pair{Any,Any}(\"_promises\", Dict{Any,Any}(Pair{Any,Any}(\"importsLoaded\", Any[WebIO.JSString(\"(function (mc){var element=this.dom.querySelector((\\\"#\\\"+\\\"meshcat_viewer_scope-4\\\")); var inner_document=element.contentDocument; var div=inner_document.body.appendChild(inner_document.createElement(\\\"div\\\")); window[\\\"meshcat_viewer_scope-4\\\"]=new mc.Viewer(div); return WebIO.setval({\\\"name\\\":\\\"meshcat-request\\\",\\\"scope\\\":\\\"scope-4\\\",\\\"id\\\":\\\"ob_11\\\",\\\"type\\\":\\\"observable\\\"},String(Date.now()))})\")])))), WebIO.ConnectionPool(Channel{Any}(sz_max:32,sz_curr:3), Set{WebIO.AbstractConnection}(), Channel{WebIO.AbstractConnection}(sz_max:32,sz_curr:0))), WebIO.Backedge(WebIO.Scope(\"scope-4\", WebIO.Node{WebIO.DOM}(WebIO.DOM(:html, :iframe), Any[], Dict{Any,Any}(Pair{Any,Any}(:id, \"meshcat_viewer_scope-4\"),Pair{Any,Any}(:height, \"400\"),Pair{Any,Any}(:width, \"600\")), 0), Dict{String,Tuple{Observables.Observable,Union{Bool, Void}}}(Pair{String,Tuple{Observables.Observable,Union{Bool, Void}}}(\"meshcat-command\", (Observables.Observable{Array{UInt8,1}}(#= circular reference @-8 =#), nothing)),Pair{String,Tuple{Observables.Observable,Union{Bool, Void}}}(\"meshcat-controls\", (Observables.Observable{Array{Any,1}}(\"ob_12\", Any[], Any[MeshCat.#29]), nothing)),Pair{String,Tuple{Observables.Observable,Union{Bool, Void}}}(\"meshcat-request\", (Observables.Observable{String}(\"ob_11\", \"\", Any[MeshCat.#28]), nothing))), Set{String}(), nothing, String[\"/pkg/MeshCat/meshcat/dist/main.min.js\"], Dict{Any,Any}(Pair{Any,Any}(\"meshcat-command\", Any[WebIO.JSString(\"(function (val){console.log(\\\"handling command\\\"); return window[\\\"meshcat_viewer_scope-4\\\"].handle_command_message({\\\"data\\\":val})})\")]),Pair{Any,Any}(\"_promises\", Dict{Any,Any}(Pair{Any,Any}(\"importsLoaded\", Any[WebIO.JSString(\"(function (mc){var element=this.dom.querySelector((\\\"#\\\"+\\\"meshcat_viewer_scope-4\\\")); var inner_document=element.contentDocument; var div=inner_document.body.appendChild(inner_document.createElement(\\\"div\\\")); window[\\\"meshcat_viewer_scope-4\\\"]=new mc.Viewer(div); return WebIO.setval({\\\"name\\\":\\\"meshcat-request\\\",\\\"scope\\\":\\\"scope-4\\\",\\\"id\\\":\\\"ob_11\\\",\\\"type\\\":\\\"observable\\\"},String(Date.now()))})\")])))), WebIO.ConnectionPool(Channel{Any}(sz_max:32,sz_curr:3), Set{WebIO.AbstractConnection}(), Channel{WebIO.AbstractConnection}(sz_max:32,sz_curr:0))), WebIO.#37))]), Observables.Observable{String}(\"ob_11\", \"\", Any[MeshCat.#28]), Observables.Observable{Array{Any,1}}(\"ob_12\", Any[], Any[MeshCat.#29]), Dict{String,Tuple{Observables.Observable,MeshCat.AbstractControl}}()), /meshcat)"
      ]
     },
     "execution_count": 7,
     "metadata": {},
     "output_type": "execute_result"
    }
   ],
   "source": [
    "vis = Visualizer()\n",
    "\n",
    "# webio_serve(page(\"/\", req -> vis.core.scope), 8001)"
   ]
  },
  {
   "cell_type": "code",
   "execution_count": 4,
   "metadata": {},
   "outputs": [
    {
     "name": "stdout",
     "output_type": "stream",
     "text": [
      "Listening on 0.0.0.0:8006...\n"
     ]
    }
   ],
   "source": [
    "webio_serve(page(req -> vis.core.scope), 8006)"
   ]
  },
  {
   "cell_type": "code",
   "execution_count": 5,
   "metadata": {},
   "outputs": [],
   "source": [
    "box = HyperRectangle(Vec(0., 0, 0), Vec(1., 1, 1))\n",
    "setobject!(vis, box);"
   ]
  },
  {
   "cell_type": "code",
   "execution_count": 9,
   "metadata": {},
   "outputs": [
    {
     "data": {
      "text/plain": [
       "7"
      ]
     },
     "execution_count": 9,
     "metadata": {},
     "output_type": "execute_result"
    }
   ],
   "source": [
    "send(collect(vis.core.scope.pool.connections)[2], \"hello\")"
   ]
  },
  {
   "cell_type": "code",
   "execution_count": null,
   "metadata": {},
   "outputs": [],
   "source": [
    "obs = Observable(0.0)\n",
    "on(obs) do x\n",
    "    println(\"got $x\")\n",
    "end\n",
    "MeshCat.setcontrol!(vis, \"slider\", obs, 0.5)"
   ]
  },
  {
   "cell_type": "code",
   "execution_count": null,
   "metadata": {},
   "outputs": [],
   "source": [
    "btn = MeshCat.Button(obs, name)\n",
    "send(vis.core, MeshCat.SetControl(btn))"
   ]
  },
  {
   "cell_type": "code",
   "execution_count": 9,
   "metadata": {},
   "outputs": [
    {
     "data": {
      "text/html": [
       "2 methods for generic function <b>webio_serve</b>:<ul><li> webio_serve(app) at <a href=\"https://github.com/JuliaGizmos/WebIO.jl/tree/e61f85118a098781c3c555d3cfd738aabd749251//src/providers/mux_setup.jl#L11\" target=\"_blank\">/home/rdeits/.julia/v0.6/WebIO/src/providers/mux_setup.jl:11</a></li> <li> webio_serve(app, port) at <a href=\"https://github.com/JuliaGizmos/WebIO.jl/tree/e61f85118a098781c3c555d3cfd738aabd749251//src/providers/mux_setup.jl#L11\" target=\"_blank\">/home/rdeits/.julia/v0.6/WebIO/src/providers/mux_setup.jl:11</a></li> </ul>"
      ],
      "text/plain": [
       "# 2 methods for generic function \"webio_serve\":\n",
       "webio_serve(app) in Main at /home/rdeits/.julia/v0.6/WebIO/src/providers/mux_setup.jl:11\n",
       "webio_serve(app, port) in Main at /home/rdeits/.julia/v0.6/WebIO/src/providers/mux_setup.jl:11"
      ]
     },
     "execution_count": 9,
     "metadata": {},
     "output_type": "execute_result"
    }
   ],
   "source": [
    "methods(webio_serve)"
   ]
  },
  {
   "cell_type": "code",
   "execution_count": null,
   "metadata": {},
   "outputs": [],
   "source": []
  }
 ],
 "metadata": {
  "kernelspec": {
   "display_name": "Julia 0.6.2",
   "language": "julia",
   "name": "julia-0.6"
  },
  "language_info": {
   "file_extension": ".jl",
   "mimetype": "application/julia",
   "name": "julia",
   "version": "0.6.2"
  }
 },
 "nbformat": 4,
 "nbformat_minor": 2
}
