{
 "cells": [
  {
   "cell_type": "code",
   "execution_count": 6,
   "metadata": {},
   "outputs": [],
   "source": [
    "using Revise"
   ]
  },
  {
   "cell_type": "code",
   "execution_count": 7,
   "metadata": {},
   "outputs": [],
   "source": [
    "using WebIO\n",
    "using Mux\n",
    "using GeometryTypes\n",
    "using MeshCat"
   ]
  },
  {
   "cell_type": "code",
   "execution_count": 8,
   "metadata": {},
   "outputs": [
    {
     "data": {
      "text/html": [
       "<div class='display:none'></div><unsafe-script style='display:none'>\n",
       "WebIO.mount(this.previousSibling,{&quot;props&quot;:{&quot;style&quot;:{&quot;min-height&quot;:&quot;400px&quot;}},&quot;nodeType&quot;:&quot;DOM&quot;,&quot;type&quot;:&quot;node&quot;,&quot;instanceArgs&quot;:{&quot;namespace&quot;:&quot;html&quot;,&quot;tag&quot;:&quot;div&quot;},&quot;children&quot;:[{&quot;props&quot;:{},&quot;nodeType&quot;:&quot;Scope&quot;,&quot;type&quot;:&quot;node&quot;,&quot;instanceArgs&quot;:{&quot;imports&quot;:{&quot;data&quot;:[{&quot;name&quot;:null,&quot;type&quot;:&quot;js&quot;,&quot;url&quot;:&quot;/pkg/MeshCat/meshcat/dist/main.min.js&quot;}],&quot;type&quot;:&quot;async_block&quot;},&quot;id&quot;:&quot;scope-3&quot;,&quot;handlers&quot;:{&quot;meshcat-command&quot;:[(function (val){console.log(&quot;handling command&quot;); return window[&quot;meshcat_viewer_scope-3&quot;].handle_command_message({&quot;data&quot;:val})})],&quot;_promises&quot;:{&quot;importsLoaded&quot;:[(function (mc){var element=this.dom.querySelector((&quot;#&quot;+&quot;meshcat_viewer_scope-3&quot;)); window[&quot;meshcat_viewer_scope-3&quot;]=new mc.Viewer(element); return WebIO.setval({&quot;name&quot;:&quot;meshcat-request&quot;,&quot;scope&quot;:&quot;scope-3&quot;,&quot;id&quot;:&quot;ob_08&quot;,&quot;type&quot;:&quot;observable&quot;},String(Date.now()))})]}},&quot;systemjs_options&quot;:null,&quot;observables&quot;:{&quot;meshcat-command&quot;:{&quot;sync&quot;:false,&quot;id&quot;:&quot;ob_07&quot;,&quot;value&quot;:[]},&quot;meshcat-controls&quot;:{&quot;sync&quot;:true,&quot;id&quot;:&quot;ob_09&quot;,&quot;value&quot;:[]},&quot;meshcat-request&quot;:{&quot;sync&quot;:true,&quot;id&quot;:&quot;ob_08&quot;,&quot;value&quot;:&quot;&quot;}}},&quot;children&quot;:[{&quot;props&quot;:{&quot;id&quot;:&quot;meshcat_viewer_scope-3&quot;,&quot;className&quot;:&quot;meshcat-viewer&quot;,&quot;style&quot;:{&quot;left&quot;:0,&quot;right&quot;:0,&quot;position&quot;:&quot;absolute&quot;,&quot;height&quot;:&quot;100%&quot;,&quot;width&quot;:&quot;100%&quot;}},&quot;nodeType&quot;:&quot;DOM&quot;,&quot;type&quot;:&quot;node&quot;,&quot;instanceArgs&quot;:{&quot;namespace&quot;:&quot;html&quot;,&quot;tag&quot;:&quot;div&quot;},&quot;children&quot;:[]}]}]})</unsafe-script>"
      ],
      "text/plain": [
       "MeshCat.Visualizer(MeshCat.CoreVisualizer(WebIO.Scope(\"scope-3\", WebIO.Node{WebIO.DOM}(WebIO.DOM(:html, :div), Any[], Dict{Any,Any}(Pair{Any,Any}(:id, \"meshcat_viewer_scope-3\"),Pair{Any,Any}(:className, \"meshcat-viewer\"),Pair{Any,Any}(:style, Dict{Symbol,Any}(Pair{Symbol,Any}(:left, 0),Pair{Symbol,Any}(:right, 0),Pair{Symbol,Any}(:position, \"absolute\"),Pair{Symbol,Any}(:height, \"100%\"),Pair{Symbol,Any}(:width, \"100%\")))), 0), Dict{String,Tuple{Observables.Observable,Union{Bool, Void}}}(Pair{String,Tuple{Observables.Observable,Union{Bool, Void}}}(\"meshcat-command\", (Observables.Observable{Array{UInt8,1}}(\"ob_07\", UInt8[], Any[WebIO.Backedge(WebIO.Scope(#= circular reference @-7 =#), WebIO.Backedge(WebIO.Scope(#= circular reference @-8 =#), WebIO.#37))]), nothing)),Pair{String,Tuple{Observables.Observable,Union{Bool, Void}}}(\"meshcat-controls\", (Observables.Observable{Array{Any,1}}(\"ob_09\", Any[], Any[MeshCat.#15]), nothing)),Pair{String,Tuple{Observables.Observable,Union{Bool, Void}}}(\"meshcat-request\", (Observables.Observable{String}(\"ob_08\", \"\", Any[MeshCat.#14]), nothing))), Set{String}(), nothing, String[\"/pkg/MeshCat/meshcat/dist/main.min.js\"], Dict{Any,Any}(Pair{Any,Any}(\"meshcat-command\", Any[WebIO.JSString(\"(function (val){console.log(\\\"handling command\\\"); return window[\\\"meshcat_viewer_scope-3\\\"].handle_command_message({\\\"data\\\":val})})\")]),Pair{Any,Any}(\"_promises\", Dict{Any,Any}(Pair{Any,Any}(\"importsLoaded\", Any[WebIO.JSString(\"(function (mc){var element=this.dom.querySelector((\\\"#\\\"+\\\"meshcat_viewer_scope-3\\\")); window[\\\"meshcat_viewer_scope-3\\\"]=new mc.Viewer(element); return WebIO.setval({\\\"name\\\":\\\"meshcat-request\\\",\\\"scope\\\":\\\"scope-3\\\",\\\"id\\\":\\\"ob_08\\\",\\\"type\\\":\\\"observable\\\"},String(Date.now()))})\")])))), WebIO.ConnectionPool(Channel{Any}(sz_max:32,sz_curr:3), Set{WebIO.AbstractConnection}(), Channel{WebIO.AbstractConnection}(sz_max:32,sz_curr:0))), MeshCat.SceneTrees.SceneNode(Nullable{Array{UInt8,1}}(), Nullable{Array{UInt8,1}}(), Dict{String,MeshCat.SceneTrees.SceneNode}()), Observables.Observable{Array{UInt8,1}}(\"ob_07\", UInt8[], Any[WebIO.Backedge(WebIO.Scope(\"scope-3\", WebIO.Node{WebIO.DOM}(WebIO.DOM(:html, :div), Any[], Dict{Any,Any}(Pair{Any,Any}(:id, \"meshcat_viewer_scope-3\"),Pair{Any,Any}(:className, \"meshcat-viewer\"),Pair{Any,Any}(:style, Dict{Symbol,Any}(Pair{Symbol,Any}(:left, 0),Pair{Symbol,Any}(:right, 0),Pair{Symbol,Any}(:position, \"absolute\"),Pair{Symbol,Any}(:height, \"100%\"),Pair{Symbol,Any}(:width, \"100%\")))), 0), Dict{String,Tuple{Observables.Observable,Union{Bool, Void}}}(Pair{String,Tuple{Observables.Observable,Union{Bool, Void}}}(\"meshcat-command\", (Observables.Observable{Array{UInt8,1}}(#= circular reference @-7 =#), nothing)),Pair{String,Tuple{Observables.Observable,Union{Bool, Void}}}(\"meshcat-controls\", (Observables.Observable{Array{Any,1}}(\"ob_09\", Any[], Any[MeshCat.#15]), nothing)),Pair{String,Tuple{Observables.Observable,Union{Bool, Void}}}(\"meshcat-request\", (Observables.Observable{String}(\"ob_08\", \"\", Any[MeshCat.#14]), nothing))), Set{String}(), nothing, String[\"/pkg/MeshCat/meshcat/dist/main.min.js\"], Dict{Any,Any}(Pair{Any,Any}(\"meshcat-command\", Any[WebIO.JSString(\"(function (val){console.log(\\\"handling command\\\"); return window[\\\"meshcat_viewer_scope-3\\\"].handle_command_message({\\\"data\\\":val})})\")]),Pair{Any,Any}(\"_promises\", Dict{Any,Any}(Pair{Any,Any}(\"importsLoaded\", Any[WebIO.JSString(\"(function (mc){var element=this.dom.querySelector((\\\"#\\\"+\\\"meshcat_viewer_scope-3\\\")); window[\\\"meshcat_viewer_scope-3\\\"]=new mc.Viewer(element); return WebIO.setval({\\\"name\\\":\\\"meshcat-request\\\",\\\"scope\\\":\\\"scope-3\\\",\\\"id\\\":\\\"ob_08\\\",\\\"type\\\":\\\"observable\\\"},String(Date.now()))})\")])))), WebIO.ConnectionPool(Channel{Any}(sz_max:32,sz_curr:3), Set{WebIO.AbstractConnection}(), Channel{WebIO.AbstractConnection}(sz_max:32,sz_curr:0))), WebIO.Backedge(WebIO.Scope(\"scope-3\", WebIO.Node{WebIO.DOM}(WebIO.DOM(:html, :div), Any[], Dict{Any,Any}(Pair{Any,Any}(:id, \"meshcat_viewer_scope-3\"),Pair{Any,Any}(:className, \"meshcat-viewer\"),Pair{Any,Any}(:style, Dict{Symbol,Any}(Pair{Symbol,Any}(:left, 0),Pair{Symbol,Any}(:right, 0),Pair{Symbol,Any}(:position, \"absolute\"),Pair{Symbol,Any}(:height, \"100%\"),Pair{Symbol,Any}(:width, \"100%\")))), 0), Dict{String,Tuple{Observables.Observable,Union{Bool, Void}}}(Pair{String,Tuple{Observables.Observable,Union{Bool, Void}}}(\"meshcat-command\", (Observables.Observable{Array{UInt8,1}}(#= circular reference @-8 =#), nothing)),Pair{String,Tuple{Observables.Observable,Union{Bool, Void}}}(\"meshcat-controls\", (Observables.Observable{Array{Any,1}}(\"ob_09\", Any[], Any[MeshCat.#15]), nothing)),Pair{String,Tuple{Observables.Observable,Union{Bool, Void}}}(\"meshcat-request\", (Observables.Observable{String}(\"ob_08\", \"\", Any[MeshCat.#14]), nothing))), Set{String}(), nothing, String[\"/pkg/MeshCat/meshcat/dist/main.min.js\"], Dict{Any,Any}(Pair{Any,Any}(\"meshcat-command\", Any[WebIO.JSString(\"(function (val){console.log(\\\"handling command\\\"); return window[\\\"meshcat_viewer_scope-3\\\"].handle_command_message({\\\"data\\\":val})})\")]),Pair{Any,Any}(\"_promises\", Dict{Any,Any}(Pair{Any,Any}(\"importsLoaded\", Any[WebIO.JSString(\"(function (mc){var element=this.dom.querySelector((\\\"#\\\"+\\\"meshcat_viewer_scope-3\\\")); window[\\\"meshcat_viewer_scope-3\\\"]=new mc.Viewer(element); return WebIO.setval({\\\"name\\\":\\\"meshcat-request\\\",\\\"scope\\\":\\\"scope-3\\\",\\\"id\\\":\\\"ob_08\\\",\\\"type\\\":\\\"observable\\\"},String(Date.now()))})\")])))), WebIO.ConnectionPool(Channel{Any}(sz_max:32,sz_curr:3), Set{WebIO.AbstractConnection}(), Channel{WebIO.AbstractConnection}(sz_max:32,sz_curr:0))), WebIO.#37))]), Observables.Observable{String}(\"ob_08\", \"\", Any[MeshCat.#14]), Observables.Observable{Array{Any,1}}(\"ob_09\", Any[], Any[MeshCat.#15]), Dict{String,Tuple{Observables.Observable,MeshCat.AbstractControl}}()), /meshcat)"
      ]
     },
     "execution_count": 8,
     "metadata": {},
     "output_type": "execute_result"
    }
   ],
   "source": [
    "vis = Visualizer()\n",
    "\n",
    "# webio_serve(page(\"/\", req -> vis.core.scope), 8001)"
   ]
  },
  {
   "cell_type": "code",
   "execution_count": 5,
   "metadata": {},
   "outputs": [
    {
     "name": "stdout",
     "output_type": "stream",
     "text": [
      "Listening on 0.0.0.0:8006...\n"
     ]
    },
    {
     "name": "stderr",
     "output_type": "stream",
     "text": [
      "Error handling websocket connection:\n",
      "\u001b[91mError: client disconnected\u001b[39mError handling websocket connection:\n",
      "\u001b[91mError: client disconnected\u001b[39mError handling websocket connection:\n",
      "\u001b[91mError: client disconnected\u001b[39m"
     ]
    }
   ],
   "source": [
    "webio_serve(page(req -> vis.core.scope), 8006)"
   ]
  },
  {
   "cell_type": "code",
   "execution_count": 7,
   "metadata": {},
   "outputs": [],
   "source": [
    "box = HyperRectangle(Vec(0., 0, 0), Vec(1., 1, 1))\n",
    "setobject!(vis, box);"
   ]
  },
  {
   "cell_type": "code",
   "execution_count": null,
   "metadata": {},
   "outputs": [],
   "source": [
    "send(collect(vis.core.scope.pool.connections)[2], \"hello\")"
   ]
  },
  {
   "cell_type": "code",
   "execution_count": null,
   "metadata": {},
   "outputs": [],
   "source": [
    "obs = Observable(0.0)\n",
    "on(obs) do x\n",
    "    println(\"got $x\")\n",
    "end\n",
    "MeshCat.setcontrol!(vis, \"slider\", obs, 0.5)"
   ]
  },
  {
   "cell_type": "code",
   "execution_count": null,
   "metadata": {},
   "outputs": [],
   "source": [
    "btn = MeshCat.Button(obs, name)\n",
    "send(vis.core, MeshCat.SetControl(btn))"
   ]
  },
  {
   "cell_type": "code",
   "execution_count": null,
   "metadata": {},
   "outputs": [],
   "source": [
    "methods(webio_serve)"
   ]
  },
  {
   "cell_type": "code",
   "execution_count": null,
   "metadata": {},
   "outputs": [],
   "source": []
  }
 ],
 "metadata": {
  "kernelspec": {
   "display_name": "Julia 0.6.2",
   "language": "julia",
   "name": "julia-0.6"
  },
  "language_info": {
   "file_extension": ".jl",
   "mimetype": "application/julia",
   "name": "julia",
   "version": "0.6.2"
  }
 },
 "nbformat": 4,
 "nbformat_minor": 2
}
