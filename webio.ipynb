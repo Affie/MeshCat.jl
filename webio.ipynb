{
 "cells": [
  {
   "cell_type": "code",
   "execution_count": 1,
   "metadata": {},
   "outputs": [
    {
     "data": {
      "text/html": [
       "<script src='/pkg/WebIO/webio/dist/bundle.js'></script>"
      ],
      "text/plain": [
       "HTML{String}(\"<script src='/pkg/WebIO/webio/dist/bundle.js'></script>\")"
      ]
     },
     "metadata": {},
     "output_type": "display_data",
     "source": "julia"
    },
    {
     "data": {
      "text/html": [
       "<script src='/pkg/WebIO/providers/ijulia_setup.js'></script>"
      ],
      "text/plain": [
       "HTML{String}(\"<script src='/pkg/WebIO/providers/ijulia_setup.js'></script>\")"
      ]
     },
     "metadata": {},
     "output_type": "display_data",
     "source": "julia"
    },
    {
     "name": "stdout",
     "output_type": "stream",
     "text": [
      "WebIO: setting up ijulia\n"
     ]
    }
   ],
   "source": [
    "using WebIO"
   ]
  },
  {
   "cell_type": "code",
   "execution_count": 2,
   "metadata": {},
   "outputs": [
    {
     "data": {
      "text/html": [
       "<div class='display:none'></div><unsafe-script style='display:none'>\n",
       "WebIO.mount(this.previousSibling,{&quot;props&quot;:{},&quot;nodeType&quot;:&quot;Scope&quot;,&quot;type&quot;:&quot;node&quot;,&quot;instanceArgs&quot;:{&quot;imports&quot;:{&quot;data&quot;:[{&quot;name&quot;:null,&quot;type&quot;:&quot;js&quot;,&quot;url&quot;:&quot;/pkg/MeshCat/meshcat/dist/main.min.js&quot;}],&quot;type&quot;:&quot;async_block&quot;},&quot;id&quot;:&quot;scope-1&quot;,&quot;handlers&quot;:{&quot;meshcat-command&quot;:[(function (val){return viewer.handle_command_message({&quot;data&quot;:val})})],&quot;_promises&quot;:{&quot;importsLoaded&quot;:[(function (mc){viewer=new mc.Viewer(this.dom.querySelector(&quot;#container&quot;)); return console.log(&quot;initialized&quot;)})]}},&quot;systemjs_options&quot;:null,&quot;observables&quot;:{&quot;meshcat-command&quot;:{&quot;sync&quot;:false,&quot;id&quot;:&quot;ob_01&quot;,&quot;value&quot;:[]}}},&quot;children&quot;:[{&quot;props&quot;:{&quot;id&quot;:&quot;container&quot;},&quot;nodeType&quot;:&quot;DOM&quot;,&quot;type&quot;:&quot;node&quot;,&quot;instanceArgs&quot;:{&quot;namespace&quot;:&quot;html&quot;,&quot;tag&quot;:&quot;div&quot;},&quot;children&quot;:[]}]})</unsafe-script>"
      ],
      "text/plain": [
       "WebIO.Scope(\"scope-1\", WebIO.Node{WebIO.DOM}(WebIO.DOM(:html, :div), Any[], Dict{Any,Any}(Pair{Any,Any}(:id, \"container\")), 0), Dict{String,Tuple{Observables.Observable,Union{Bool, Void}}}(Pair{String,Tuple{Observables.Observable,Union{Bool, Void}}}(\"meshcat-command\", (Observables.Observable{Array{UInt8,1}}(\"ob_01\", UInt8[], Any[WebIO.Backedge(WebIO.Scope(#= circular reference @-7 =#), WebIO.Backedge(WebIO.Scope(#= circular reference @-8 =#), WebIO.#37))]), nothing))), Set{String}(), nothing, String[\"/pkg/MeshCat/meshcat/dist/main.min.js\"], Dict{Any,Any}(Pair{Any,Any}(\"meshcat-command\", Any[WebIO.JSString(\"(function (val){return viewer.handle_command_message({\\\"data\\\":val})})\")]),Pair{Any,Any}(\"_promises\", Dict{Any,Any}(Pair{Any,Any}(\"importsLoaded\", Any[WebIO.JSString(\"(function (mc){viewer=new mc.Viewer(this.dom.querySelector(\\\"#container\\\")); return console.log(\\\"initialized\\\")})\")])))), WebIO.ConnectionPool(Channel{Any}(sz_max:32,sz_curr:1), Set{WebIO.AbstractConnection}(), Channel{WebIO.AbstractConnection}(sz_max:32,sz_curr:0)))"
      ]
     },
     "execution_count": 2,
     "metadata": {},
     "output_type": "execute_result"
    }
   ],
   "source": [
    "using WebIO, JSExpr\n",
    "\n",
    "w = Scope(\n",
    "    imports=[\n",
    "        \"/pkg/MeshCat/meshcat/dist/main.min.js\",\n",
    "    ])\n",
    "\n",
    "obs = Observable(w, \"meshcat-command\", UInt8[])\n",
    "\n",
    "onimport(w, @js function (mc)\n",
    "    viewer = @new mc.Viewer(this.dom.querySelector(\"#container\"))\n",
    "    console.log(\"initialized\")\n",
    "end)\n",
    "\n",
    "onjs(obs, @js val -> begin\n",
    "    viewer.handle_command_message(Dict(:data => val))\n",
    "end)\n",
    "\n",
    "w(dom\"div#container\"())"
   ]
  },
  {
   "cell_type": "code",
   "execution_count": 20,
   "metadata": {},
   "outputs": [],
   "source": [
    "using MeshCat\n",
    "using GeometryTypes\n",
    "using MsgPack\n",
    "using CoordinateTransformations"
   ]
  },
  {
   "cell_type": "code",
   "execution_count": 23,
   "metadata": {},
   "outputs": [],
   "source": [
    "box = HyperRectangle(Vec(0., 0, 0), Vec(1., 1, 1))\n",
    "obj = MeshCat.Mesh(box)\n",
    "cmd = MeshCat.SetObject(obj, MeshCat.Path([\"box\"]))\n",
    "MeshCat.lower(cmd)\n",
    "obs[] = MsgPack.pack(MeshCat.lower(cmd));\n",
    "\n",
    "for θ in linspace(0, 2π, 100)\n",
    "    cmd = MeshCat.SetTransform(LinearMap(RotZ(θ)), MeshCat.Path([\"box\"]))\n",
    "    obs[] = MsgPack.pack(MeshCat.lower(cmd))\n",
    "    sleep(1/100)\n",
    "end"
   ]
  },
  {
   "cell_type": "code",
   "execution_count": null,
   "metadata": {},
   "outputs": [],
   "source": []
  }
 ],
 "metadata": {
  "kernelspec": {
   "display_name": "Julia 0.6.2",
   "language": "julia",
   "name": "julia-0.6"
  },
  "language_info": {
   "file_extension": ".jl",
   "mimetype": "application/julia",
   "name": "julia",
   "version": "0.6.2"
  }
 },
 "nbformat": 4,
 "nbformat_minor": 2
}
